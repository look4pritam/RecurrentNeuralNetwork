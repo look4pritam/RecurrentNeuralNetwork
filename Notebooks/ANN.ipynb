{
  "nbformat": 4,
  "nbformat_minor": 0,
  "metadata": {
    "colab": {
      "provenance": [],
      "gpuType": "T4",
      "include_colab_link": true
    },
    "kernelspec": {
      "name": "python3",
      "display_name": "Python 3"
    },
    "accelerator": "GPU"
  },
  "cells": [
    {
      "cell_type": "markdown",
      "metadata": {
        "id": "view-in-github",
        "colab_type": "text"
      },
      "source": [
        "<a href=\"https://colab.research.google.com/github/look4pritam/RecurrentNeuralNetwork/blob/master/Notebooks/ANN.ipynb\" target=\"_parent\"><img src=\"https://colab.research.google.com/assets/colab-badge.svg\" alt=\"Open In Colab\"/></a>"
      ]
    },
    {
      "cell_type": "markdown",
      "metadata": {
        "id": "hr2SibbfIeP1"
      },
      "source": [
        "# Sentiment analysis\n",
        "In this assignment, we will learn to create neural network model for [sentiment analysis](https://en.wikipedia.org/wiki/Sentiment_analysis) using [neural network](https://en.wikipedia.org/wiki/Neural_network) approach."
      ]
    },
    {
      "cell_type": "markdown",
      "metadata": {
        "id": "FsED_4KnV2fD"
      },
      "source": [
        "### Import required python modules."
      ]
    },
    {
      "cell_type": "code",
      "metadata": {
        "id": "CThMTWltflv0"
      },
      "source": [
        "import numpy as np\n",
        "np.random.seed(7)"
      ],
      "execution_count": 1,
      "outputs": []
    },
    {
      "cell_type": "code",
      "source": [
        "import tensorflow as tf\n",
        "from tensorflow.keras.datasets import imdb"
      ],
      "metadata": {
        "id": "qS9WjxUh8QYv"
      },
      "execution_count": 2,
      "outputs": []
    },
    {
      "cell_type": "markdown",
      "metadata": {
        "id": "zipJYNk0KA3T"
      },
      "source": [
        "### Load the IMDb dataset.\n",
        "\n",
        "Keras has a built-in [IMDb movie reviews dataset](https://keras.io/datasets). We will use this dataset.\n",
        "- Set vocabulary size = 5000.\n",
        "- Set embedding size = 32.\n",
        "- Load IMDb dataset.\n",
        "\n",
        "### Hints\n",
        "- [IMDb movie reviews dataset](https://keras.io/datasets)"
      ]
    },
    {
      "cell_type": "code",
      "metadata": {
        "id": "VBXmCMrtfp4F",
        "colab": {
          "base_uri": "https://localhost:8080/"
        },
        "outputId": "abd7dbf4-21fa-4210-c2a2-8e26fa8bd493"
      },
      "source": [
        "vocabulary_size = 5000\n",
        "embedding_size = 32\n",
        "\n",
        "(X_train, y_train), (X_test, y_test) = imdb.load_data(num_words=vocabulary_size)\n",
        "print('Loaded IMDB dataset with {} training samples and {} test samples.'.format(len(X_train), len(X_test)))"
      ],
      "execution_count": 3,
      "outputs": [
        {
          "output_type": "stream",
          "name": "stdout",
          "text": [
            "Downloading data from https://storage.googleapis.com/tensorflow/tf-keras-datasets/imdb.npz\n",
            "\u001b[1m17464789/17464789\u001b[0m \u001b[32m━━━━━━━━━━━━━━━━━━━━\u001b[0m\u001b[37m\u001b[0m \u001b[1m0s\u001b[0m 0us/step\n",
            "Loaded IMDB dataset with 25000 training samples and 25000 test samples.\n"
          ]
        }
      ]
    },
    {
      "cell_type": "code",
      "metadata": {
        "id": "t_lrYTF_fz_J",
        "colab": {
          "base_uri": "https://localhost:8080/"
        },
        "outputId": "f3eb9953-e2b9-4dae-980b-2830c30c18cb"
      },
      "source": [
        "sample_index = np.random.randint(0, X_train.shape[0])\n",
        "\n",
        "print('Review ', X_train[sample_index])\n",
        "print('Label ', y_train[sample_index])"
      ],
      "execution_count": 4,
      "outputs": [
        {
          "output_type": "stream",
          "name": "stdout",
          "text": [
            "Review  [1, 4002, 24, 6, 78, 96, 8, 380, 12, 13, 197, 14, 16, 204, 21, 95, 13, 1957, 12, 16, 6, 2, 7, 4, 2, 1034, 7, 711, 1991, 13, 115, 219, 711, 1991, 366, 13, 16, 1119, 13, 219, 14, 22, 54, 13, 16, 790, 4, 598, 2, 2, 228, 80, 79, 1571, 11, 129, 419, 24, 8, 760, 4, 598, 756, 613, 34, 4, 2, 14, 9, 4, 249, 1664, 302, 207, 126, 110, 33, 4, 172, 58, 14, 22, 1287, 6, 3942, 2, 7, 503, 102, 906, 4414, 193, 6, 2, 5, 140, 8, 1445, 276, 4, 2, 11, 129, 2, 5, 25, 28, 2, 671, 13, 377, 319, 14, 22, 23, 20, 2, 2, 34, 3584, 50, 9, 31, 136, 121, 12, 16, 40, 711, 1991, 11, 2, 11, 711, 1991, 29, 2, 4, 250, 5, 2, 56, 4, 1430, 21, 11, 14, 22, 29, 2, 180, 4, 1430, 5, 2, 4, 250, 37, 16, 1454, 82, 187, 15, 291, 16, 160, 1991, 2, 4887, 2, 132, 2, 63, 385, 39, 2579, 1991, 50, 9, 6, 176, 7, 4286, 2, 139, 5, 2, 648, 531, 14, 22, 80, 563, 25, 1104, 12, 9, 40, 13, 301, 43, 160, 711, 1991, 2, 1150, 3245, 18, 567, 1101, 2, 791, 5, 49, 629, 139]\n",
            "Label  0\n"
          ]
        }
      ]
    },
    {
      "cell_type": "code",
      "metadata": {
        "id": "1cTwM0Y6f2uu",
        "colab": {
          "base_uri": "https://localhost:8080/"
        },
        "outputId": "90bc2ebf-5776-4152-9909-7d95e2e596b1"
      },
      "source": [
        "word_to_identifier = imdb.get_word_index()\n",
        "identifier_to_word = {i: word for word, i in word_to_identifier.items()}\n",
        "\n",
        "print('Review with words' , [identifier_to_word.get(i, ' ') for i in X_train[sample_index]])\n",
        "print('Label ' , y_train[sample_index])"
      ],
      "execution_count": 5,
      "outputs": [
        {
          "output_type": "stream",
          "name": "stdout",
          "text": [
            "Downloading data from https://storage.googleapis.com/tensorflow/tf-keras-datasets/imdb_word_index.json\n",
            "\u001b[1m1641221/1641221\u001b[0m \u001b[32m━━━━━━━━━━━━━━━━━━━━\u001b[0m\u001b[37m\u001b[0m \u001b[1m0s\u001b[0m 0us/step\n",
            "Review with words ['the', 'staff', 'his', 'is', 'do', 'too', 'in', 'sex', 'that', 'was', 'between', 'as', 'with', \"i've\", 'not', 'them', 'was', 'unfunny', 'that', 'with', 'is', 'and', 'br', 'of', 'and', 'further', 'br', 'easily', 'gags', 'was', 'best', 'least', 'easily', 'gags', 'friends', 'was', 'with', 'italian', 'was', 'least', 'as', 'you', 'no', 'was', 'with', 'among', 'of', 'complete', 'and', 'and', 'making', 'into', 'also', 'seconds', 'this', 'man', 'yes', 'his', 'in', 'add', 'of', 'complete', 'stand', 'annoying', 'who', 'of', 'and', 'as', 'it', 'of', 'sure', 'teenage', 'instead', 'always', 'your', 'life', 'they', 'of', 'every', 'my', 'as', 'you', 'comedies', 'is', 'pretend', 'and', 'br', 'child', 'characters', 'meet', 'celebrity', 'long', 'is', 'and', 'to', 'through', 'in', 'happening', 'maybe', 'of', 'and', 'this', 'man', 'and', 'to', 'have', 'one', 'and', 'important', 'was', 'start', 'wife', 'as', 'you', 'are', 'on', 'and', 'and', 'who', 'size', 'more', 'it', 'by', 'scenes', 'know', 'that', 'with', 'just', 'easily', 'gags', 'this', 'and', 'this', 'easily', 'gags', 'all', 'and', 'of', 'fun', 'to', 'and', 'she', 'of', 'names', 'not', 'this', 'as', 'you', 'all', 'and', 'things', 'of', 'names', 'to', 'and', 'of', 'fun', 'like', 'with', 'puts', 'other', 'however', 'for', 'someone', 'with', 'funny', 'gags', 'and', 'masterpieces', 'and', 'say', 'and', 'really', 'moments', 'or', 'junk', 'gags', 'more', 'it', 'is', 'quite', 'br', 'diane', 'and', 'something', 'to', 'and', 'level', 'hour', 'as', 'you', 'into', 'cannot', 'have', 'value', 'that', 'it', 'just', 'was', 'takes', 'out', 'funny', 'easily', 'gags', 'and', 'hair', '16', 'but', 'stop', 'laughing', 'and', 'follow', 'to', 'good', 'hero', 'something']\n",
            "Label  0\n"
          ]
        }
      ]
    },
    {
      "cell_type": "code",
      "metadata": {
        "id": "sadHcSgCgATe",
        "colab": {
          "base_uri": "https://localhost:8080/"
        },
        "outputId": "ebd9d20c-9407-41b2-be43-d9b1779f82ec"
      },
      "source": [
        "print('Maximum review length: {}'.format(len(max((X_train + X_test), key=len))))\n",
        "print('Minimum review length: {}'.format(len(min((X_test + X_test), key=len))))"
      ],
      "execution_count": 6,
      "outputs": [
        {
          "output_type": "stream",
          "name": "stdout",
          "text": [
            "Maximum review length: 2697\n",
            "Minimum review length: 14\n"
          ]
        }
      ]
    },
    {
      "cell_type": "markdown",
      "metadata": {
        "id": "TlpY9soxLQIS"
      },
      "source": [
        "### Pad sequences\n",
        "\n",
        "In order to feed this data into our neural network model, all input documents must have the same length. We will limit the maximum review length to max_words is equal to 500 by truncating longer reviews and padding shorter reviews with a null value (0). We can accomplish this using the [pad_sequences(...)](https://keras.io/preprocessing/sequence/) function in Keras.\n",
        "\n",
        "\n",
        "### Hints\n",
        "- [pad_sequences()](https://keras.io/preprocessing/sequence/)"
      ]
    },
    {
      "cell_type": "code",
      "metadata": {
        "id": "b_536DgLgILM"
      },
      "source": [
        "from tensorflow.keras.preprocessing import sequence\n",
        "\n",
        "max_words = 500\n",
        "\n",
        "X_train = sequence.pad_sequences(X_train, maxlen=max_words)\n",
        "X_test = sequence.pad_sequences(X_test, maxlen=max_words)"
      ],
      "execution_count": 7,
      "outputs": []
    },
    {
      "cell_type": "code",
      "metadata": {
        "id": "AmkbSHgzaabt"
      },
      "source": [
        "validation_size = 1000\n",
        "\n",
        "X_val, y_val = X_train[:validation_size], y_train[:validation_size]\n",
        "X_train, y_train = X_train[validation_size:], y_train[validation_size:]"
      ],
      "execution_count": 8,
      "outputs": []
    },
    {
      "cell_type": "markdown",
      "metadata": {
        "id": "e6ktTKxCZeL8"
      },
      "source": [
        "### Use Adam optimizer.\n",
        "\n",
        "*   Import Adam optimizer from keras optimizers. See [link](https://keras.io/optimizers/) for details.\n",
        "*   Create an object of Adam optimizer with learning rate  value 0.001."
      ]
    },
    {
      "cell_type": "code",
      "metadata": {
        "id": "F7XymosWZguY"
      },
      "source": [
        "from tensorflow import keras\n",
        "from tensorflow.keras.optimizers import Adam\n",
        "\n",
        "learning_rate = 0.001\n",
        "optimizer = Adam(learning_rate=learning_rate)"
      ],
      "execution_count": 9,
      "outputs": []
    },
    {
      "cell_type": "markdown",
      "metadata": {
        "id": "d0bl-Pa0bnZm"
      },
      "source": [
        "### Import required python modules."
      ]
    },
    {
      "cell_type": "code",
      "source": [
        "from matplotlib import pyplot\n",
        "\n",
        "def show_graph(history):\n",
        "    pyplot.plot(history.history['accuracy'])\n",
        "    pyplot.plot(history.history['val_accuracy'])\n",
        "    pyplot.title('Model accuracy')\n",
        "    pyplot.ylabel('Accuracy')\n",
        "    pyplot.xlabel('Epoch')\n",
        "    pyplot.legend(['Train', 'Validation'], loc='upper left')\n",
        "    pyplot.show()\n",
        "\n",
        "    pyplot.plot(history.history['loss'])\n",
        "    pyplot.plot(history.history['val_loss'])\n",
        "    pyplot.title('Model loss')\n",
        "    pyplot.ylabel('Loss')\n",
        "    pyplot.xlabel('Epoch')\n",
        "    pyplot.legend(['Train', 'Validation'], loc='upper left')\n",
        "    pyplot.show()"
      ],
      "metadata": {
        "id": "n95yeOLZL0xZ"
      },
      "execution_count": 10,
      "outputs": []
    },
    {
      "cell_type": "code",
      "metadata": {
        "id": "AeT-oSq4bqbN"
      },
      "source": [
        "from tensorflow.keras.models import Sequential\n",
        "from tensorflow.keras.layers import Dense\n",
        "from tensorflow.keras.layers import Dropout\n",
        "from tensorflow.keras.layers import Flatten\n",
        "from tensorflow.keras.layers import Embedding"
      ],
      "execution_count": 11,
      "outputs": []
    },
    {
      "cell_type": "markdown",
      "metadata": {
        "id": "Dcgg5vA1XdQN"
      },
      "source": [
        "### Create a simple neural network model using Keras.\n",
        "\n",
        "1. Create a sequential model. See [link](https://keras.io/models/sequential/) for details.\n",
        "\n",
        "2. Add an embedding layer to the model. See [link](https://keras.io/layers/embeddings) for more details.\n",
        "Set input_dim = vocabulary_size, output_dim = embedding_size and input_length = max_words.\n",
        "\n",
        "3. Add a flatten layer to the the model. See [link](https://keras.io/layers/core/) for details.\n",
        "\n",
        "4. Add a dense layer to the model. See [link](https://keras.io/layers/core/) for details. Set units = 64, activation = relu for the layer.\n",
        "\n",
        "5. Add a dense layer to the model. Set units = 1, activation = sigmoid for the layer."
      ]
    },
    {
      "cell_type": "code",
      "metadata": {
        "id": "Klww5EU62wWD",
        "colab": {
          "base_uri": "https://localhost:8080/"
        },
        "outputId": "53a59171-cdd8-4ee9-ef17-a089074b010f"
      },
      "source": [
        "nn_model = Sequential()\n",
        "nn_model.add(Embedding(input_dim=vocabulary_size, output_dim=embedding_size, input_length=max_words))\n",
        "nn_model.add(Flatten())\n",
        "nn_model.add(Dense(units=64, activation='relu'))\n",
        "nn_model.add(Dense(units=1, activation='sigmoid'))"
      ],
      "execution_count": 12,
      "outputs": [
        {
          "output_type": "stream",
          "name": "stderr",
          "text": [
            "/usr/local/lib/python3.11/dist-packages/keras/src/layers/core/embedding.py:90: UserWarning: Argument `input_length` is deprecated. Just remove it.\n",
            "  warnings.warn(\n"
          ]
        }
      ]
    },
    {
      "cell_type": "markdown",
      "metadata": {
        "id": "nGeR8MvcbZFp"
      },
      "source": [
        "### Compile the simple neural network model.\n",
        "\n",
        "1. See [link](https://keras.io/models/model/) for details.\n",
        "2. Set loss = binary_crossentropy.\n",
        "3. Set optimizer=optimizer (created Adam optimizer).\n",
        "4. Set metrics = accuracy.\n",
        "5. Print model summary for visualization."
      ]
    },
    {
      "cell_type": "code",
      "metadata": {
        "id": "fd50doLNb7x3",
        "colab": {
          "base_uri": "https://localhost:8080/",
          "height": 274
        },
        "outputId": "6596d2f8-cfa0-4cc1-f333-9abf324e297d"
      },
      "source": [
        "nn_model.compile(loss='binary_crossentropy', optimizer=optimizer, metrics=['accuracy'])\n",
        "print(nn_model.summary())"
      ],
      "execution_count": 13,
      "outputs": [
        {
          "output_type": "display_data",
          "data": {
            "text/plain": [
              "\u001b[1mModel: \"sequential\"\u001b[0m\n"
            ],
            "text/html": [
              "<pre style=\"white-space:pre;overflow-x:auto;line-height:normal;font-family:Menlo,'DejaVu Sans Mono',consolas,'Courier New',monospace\"><span style=\"font-weight: bold\">Model: \"sequential\"</span>\n",
              "</pre>\n"
            ]
          },
          "metadata": {}
        },
        {
          "output_type": "display_data",
          "data": {
            "text/plain": [
              "┏━━━━━━━━━━━━━━━━━━━━━━━━━━━━━━━━━━━━━━┳━━━━━━━━━━━━━━━━━━━━━━━━━━━━━┳━━━━━━━━━━━━━━━━━┓\n",
              "┃\u001b[1m \u001b[0m\u001b[1mLayer (type)                        \u001b[0m\u001b[1m \u001b[0m┃\u001b[1m \u001b[0m\u001b[1mOutput Shape               \u001b[0m\u001b[1m \u001b[0m┃\u001b[1m \u001b[0m\u001b[1m        Param #\u001b[0m\u001b[1m \u001b[0m┃\n",
              "┡━━━━━━━━━━━━━━━━━━━━━━━━━━━━━━━━━━━━━━╇━━━━━━━━━━━━━━━━━━━━━━━━━━━━━╇━━━━━━━━━━━━━━━━━┩\n",
              "│ embedding (\u001b[38;5;33mEmbedding\u001b[0m)                │ ?                           │     \u001b[38;5;34m0\u001b[0m (unbuilt) │\n",
              "├──────────────────────────────────────┼─────────────────────────────┼─────────────────┤\n",
              "│ flatten (\u001b[38;5;33mFlatten\u001b[0m)                    │ ?                           │     \u001b[38;5;34m0\u001b[0m (unbuilt) │\n",
              "├──────────────────────────────────────┼─────────────────────────────┼─────────────────┤\n",
              "│ dense (\u001b[38;5;33mDense\u001b[0m)                        │ ?                           │     \u001b[38;5;34m0\u001b[0m (unbuilt) │\n",
              "├──────────────────────────────────────┼─────────────────────────────┼─────────────────┤\n",
              "│ dense_1 (\u001b[38;5;33mDense\u001b[0m)                      │ ?                           │     \u001b[38;5;34m0\u001b[0m (unbuilt) │\n",
              "└──────────────────────────────────────┴─────────────────────────────┴─────────────────┘\n"
            ],
            "text/html": [
              "<pre style=\"white-space:pre;overflow-x:auto;line-height:normal;font-family:Menlo,'DejaVu Sans Mono',consolas,'Courier New',monospace\">┏━━━━━━━━━━━━━━━━━━━━━━━━━━━━━━━━━━━━━━┳━━━━━━━━━━━━━━━━━━━━━━━━━━━━━┳━━━━━━━━━━━━━━━━━┓\n",
              "┃<span style=\"font-weight: bold\"> Layer (type)                         </span>┃<span style=\"font-weight: bold\"> Output Shape                </span>┃<span style=\"font-weight: bold\">         Param # </span>┃\n",
              "┡━━━━━━━━━━━━━━━━━━━━━━━━━━━━━━━━━━━━━━╇━━━━━━━━━━━━━━━━━━━━━━━━━━━━━╇━━━━━━━━━━━━━━━━━┩\n",
              "│ embedding (<span style=\"color: #0087ff; text-decoration-color: #0087ff\">Embedding</span>)                │ ?                           │     <span style=\"color: #00af00; text-decoration-color: #00af00\">0</span> (unbuilt) │\n",
              "├──────────────────────────────────────┼─────────────────────────────┼─────────────────┤\n",
              "│ flatten (<span style=\"color: #0087ff; text-decoration-color: #0087ff\">Flatten</span>)                    │ ?                           │     <span style=\"color: #00af00; text-decoration-color: #00af00\">0</span> (unbuilt) │\n",
              "├──────────────────────────────────────┼─────────────────────────────┼─────────────────┤\n",
              "│ dense (<span style=\"color: #0087ff; text-decoration-color: #0087ff\">Dense</span>)                        │ ?                           │     <span style=\"color: #00af00; text-decoration-color: #00af00\">0</span> (unbuilt) │\n",
              "├──────────────────────────────────────┼─────────────────────────────┼─────────────────┤\n",
              "│ dense_1 (<span style=\"color: #0087ff; text-decoration-color: #0087ff\">Dense</span>)                      │ ?                           │     <span style=\"color: #00af00; text-decoration-color: #00af00\">0</span> (unbuilt) │\n",
              "└──────────────────────────────────────┴─────────────────────────────┴─────────────────┘\n",
              "</pre>\n"
            ]
          },
          "metadata": {}
        },
        {
          "output_type": "display_data",
          "data": {
            "text/plain": [
              "\u001b[1m Total params: \u001b[0m\u001b[38;5;34m0\u001b[0m (0.00 B)\n"
            ],
            "text/html": [
              "<pre style=\"white-space:pre;overflow-x:auto;line-height:normal;font-family:Menlo,'DejaVu Sans Mono',consolas,'Courier New',monospace\"><span style=\"font-weight: bold\"> Total params: </span><span style=\"color: #00af00; text-decoration-color: #00af00\">0</span> (0.00 B)\n",
              "</pre>\n"
            ]
          },
          "metadata": {}
        },
        {
          "output_type": "display_data",
          "data": {
            "text/plain": [
              "\u001b[1m Trainable params: \u001b[0m\u001b[38;5;34m0\u001b[0m (0.00 B)\n"
            ],
            "text/html": [
              "<pre style=\"white-space:pre;overflow-x:auto;line-height:normal;font-family:Menlo,'DejaVu Sans Mono',consolas,'Courier New',monospace\"><span style=\"font-weight: bold\"> Trainable params: </span><span style=\"color: #00af00; text-decoration-color: #00af00\">0</span> (0.00 B)\n",
              "</pre>\n"
            ]
          },
          "metadata": {}
        },
        {
          "output_type": "display_data",
          "data": {
            "text/plain": [
              "\u001b[1m Non-trainable params: \u001b[0m\u001b[38;5;34m0\u001b[0m (0.00 B)\n"
            ],
            "text/html": [
              "<pre style=\"white-space:pre;overflow-x:auto;line-height:normal;font-family:Menlo,'DejaVu Sans Mono',consolas,'Courier New',monospace\"><span style=\"font-weight: bold\"> Non-trainable params: </span><span style=\"color: #00af00; text-decoration-color: #00af00\">0</span> (0.00 B)\n",
              "</pre>\n"
            ]
          },
          "metadata": {}
        },
        {
          "output_type": "stream",
          "name": "stdout",
          "text": [
            "None\n"
          ]
        }
      ]
    },
    {
      "cell_type": "markdown",
      "metadata": {
        "id": "i9ul4rFibzaI"
      },
      "source": [
        "### Train the simple neural network model.\n",
        "\n",
        "1. Set number of epochs between 10-20.\n",
        "2. Set batch size as multiple of 32 i.e. either 32 or 64.\n",
        "3.  Call function fit(...) on the model.\n",
        "4.  See [link](https://keras.io/models/model/) for details.\n",
        "5. Pass X_train and y_train for training the model\n",
        "6. Pass X_val and y_val as validation data."
      ]
    },
    {
      "cell_type": "code",
      "metadata": {
        "id": "kyOwShMHcCdP"
      },
      "source": [
        "num_epochs = 10\n",
        "batch_size = 64"
      ],
      "execution_count": 14,
      "outputs": []
    },
    {
      "cell_type": "code",
      "metadata": {
        "id": "zDJ2xEQ9dwS7",
        "colab": {
          "base_uri": "https://localhost:8080/",
          "height": 1000
        },
        "outputId": "239c62c2-29db-4fc7-8f42-91948d1a5fb5"
      },
      "source": [
        "history = nn_model.fit(X_train, y_train, validation_data=(X_val, y_val), batch_size=batch_size, epochs=num_epochs)\n",
        "show_graph(history)"
      ],
      "execution_count": 15,
      "outputs": [
        {
          "output_type": "stream",
          "name": "stdout",
          "text": [
            "Epoch 1/10\n",
            "\u001b[1m375/375\u001b[0m \u001b[32m━━━━━━━━━━━━━━━━━━━━\u001b[0m\u001b[37m\u001b[0m \u001b[1m6s\u001b[0m 5ms/step - accuracy: 0.6666 - loss: 0.5606 - val_accuracy: 0.8760 - val_loss: 0.2898\n",
            "Epoch 2/10\n",
            "\u001b[1m375/375\u001b[0m \u001b[32m━━━━━━━━━━━━━━━━━━━━\u001b[0m\u001b[37m\u001b[0m \u001b[1m3s\u001b[0m 3ms/step - accuracy: 0.9362 - loss: 0.1739 - val_accuracy: 0.8720 - val_loss: 0.3135\n",
            "Epoch 3/10\n",
            "\u001b[1m375/375\u001b[0m \u001b[32m━━━━━━━━━━━━━━━━━━━━\u001b[0m\u001b[37m\u001b[0m \u001b[1m1s\u001b[0m 3ms/step - accuracy: 0.9885 - loss: 0.0474 - val_accuracy: 0.8550 - val_loss: 0.4034\n",
            "Epoch 4/10\n",
            "\u001b[1m375/375\u001b[0m \u001b[32m━━━━━━━━━━━━━━━━━━━━\u001b[0m\u001b[37m\u001b[0m \u001b[1m1s\u001b[0m 3ms/step - accuracy: 0.9989 - loss: 0.0095 - val_accuracy: 0.8570 - val_loss: 0.4496\n",
            "Epoch 5/10\n",
            "\u001b[1m375/375\u001b[0m \u001b[32m━━━━━━━━━━━━━━━━━━━━\u001b[0m\u001b[37m\u001b[0m \u001b[1m1s\u001b[0m 3ms/step - accuracy: 1.0000 - loss: 0.0019 - val_accuracy: 0.8560 - val_loss: 0.4941\n",
            "Epoch 6/10\n",
            "\u001b[1m375/375\u001b[0m \u001b[32m━━━━━━━━━━━━━━━━━━━━\u001b[0m\u001b[37m\u001b[0m \u001b[1m1s\u001b[0m 3ms/step - accuracy: 1.0000 - loss: 9.8360e-04 - val_accuracy: 0.8630 - val_loss: 0.4978\n",
            "Epoch 7/10\n",
            "\u001b[1m375/375\u001b[0m \u001b[32m━━━━━━━━━━━━━━━━━━━━\u001b[0m\u001b[37m\u001b[0m \u001b[1m2s\u001b[0m 4ms/step - accuracy: 1.0000 - loss: 4.3909e-04 - val_accuracy: 0.8660 - val_loss: 0.5123\n",
            "Epoch 8/10\n",
            "\u001b[1m375/375\u001b[0m \u001b[32m━━━━━━━━━━━━━━━━━━━━\u001b[0m\u001b[37m\u001b[0m \u001b[1m2s\u001b[0m 5ms/step - accuracy: 1.0000 - loss: 2.8364e-04 - val_accuracy: 0.8670 - val_loss: 0.5270\n",
            "Epoch 9/10\n",
            "\u001b[1m375/375\u001b[0m \u001b[32m━━━━━━━━━━━━━━━━━━━━\u001b[0m\u001b[37m\u001b[0m \u001b[1m2s\u001b[0m 4ms/step - accuracy: 1.0000 - loss: 2.0770e-04 - val_accuracy: 0.8670 - val_loss: 0.5388\n",
            "Epoch 10/10\n",
            "\u001b[1m375/375\u001b[0m \u001b[32m━━━━━━━━━━━━━━━━━━━━\u001b[0m\u001b[37m\u001b[0m \u001b[1m2s\u001b[0m 4ms/step - accuracy: 1.0000 - loss: 1.5242e-04 - val_accuracy: 0.8660 - val_loss: 0.5529\n"
          ]
        },
        {
          "output_type": "display_data",
          "data": {
            "text/plain": [
              "<Figure size 640x480 with 1 Axes>"
            ],
            "image/png": "[encoded data removed]"
          },
          "metadata": {}
        },
        {
          "output_type": "display_data",
          "data": {
            "text/plain": [
              "<Figure size 640x480 with 1 Axes>"
            ],
            "image/png": "[encoded data removed]"
          },
          "metadata": {}
        }
      ]
    },
    {
      "cell_type": "markdown",
      "metadata": {
        "id": "DT-JRH1acOuX"
      },
      "source": [
        "### Print the model accuracy."
      ]
    },
    {
      "cell_type": "code",
      "metadata": {
        "id": "6D5RTtEBcPMH",
        "colab": {
          "base_uri": "https://localhost:8080/"
        },
        "outputId": "f4c747a7-6458-4096-b60f-d6cb63f34012"
      },
      "source": [
        "scores = nn_model.evaluate(X_test, y_test, verbose=0)\n",
        "print(\"Accuracy: %.2f%%\" % (scores[1]*100))"
      ],
      "execution_count": 16,
      "outputs": [
        {
          "output_type": "stream",
          "name": "stdout",
          "text": [
            "Accuracy: 85.90%\n"
          ]
        }
      ]
    },
    {
      "cell_type": "markdown",
      "metadata": {
        "id": "VCb3UHFAeULn"
      },
      "source": [
        "**Expected Output**:\n",
        "\n",
        "<table>\n",
        "    <tr>\n",
        "        <td>\n",
        "            Test accuracy\n",
        "        </td>\n",
        "        <td>\n",
        "           between 75.0 and 95.0\n",
        "        </td>\n",
        "    </tr>\n",
        "</table>"
      ]
    }
  ]
}